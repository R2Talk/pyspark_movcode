{
 "cells": [
  {
   "cell_type": "code",
   "execution_count": 28,
   "id": "074fb888",
   "metadata": {},
   "outputs": [
    {
     "name": "stdout",
     "output_type": "stream",
     "text": [
      "Requirement already satisfied: findspark in c:\\users\\rcarv\\anaconda3\\lib\\site-packages (2.0.1)\n"
     ]
    }
   ],
   "source": [
    "!pip install findspark\n"
   ]
  },
  {
   "cell_type": "code",
   "execution_count": 29,
   "id": "1d5cb25c",
   "metadata": {},
   "outputs": [],
   "source": [
    "import findspark\n",
    "findspark.init()"
   ]
  },
  {
   "cell_type": "code",
   "execution_count": 30,
   "id": "5debd1f7",
   "metadata": {},
   "outputs": [],
   "source": [
    "import pyspark\n",
    "from pyspark.sql import SparkSession\n"
   ]
  },
  {
   "cell_type": "code",
   "execution_count": 31,
   "id": "b103e4e0",
   "metadata": {},
   "outputs": [],
   "source": [
    "spark = SparkSession.builder.appName(\"inf550\").getOrCreate()"
   ]
  },
  {
   "cell_type": "code",
   "execution_count": 47,
   "id": "17d1de8d",
   "metadata": {},
   "outputs": [],
   "source": [
    "myrdd = spark.sparkContext.textFile(\"/UNICAMP/INF550/Spark_Input/spark_input.txt\")"
   ]
  },
  {
   "cell_type": "code",
   "execution_count": 48,
   "id": "a53f63b1",
   "metadata": {},
   "outputs": [
    {
     "data": {
      "text/plain": [
       "/UNICAMP/INF550/Spark_Input/spark_input.txt MapPartitionsRDD[12] at textFile at <unknown>:0"
      ]
     },
     "execution_count": 48,
     "metadata": {},
     "output_type": "execute_result"
    }
   ],
   "source": [
    "myrdd"
   ]
  },
  {
   "cell_type": "code",
   "execution_count": 49,
   "id": "68ef8a2c",
   "metadata": {},
   "outputs": [],
   "source": [
    "from pyspark.sql.functions import col\n",
    "\n",
    "myrdd01 = myrdd.filter(lambda line: \"TCP\" in line)"
   ]
  },
  {
   "cell_type": "code",
   "execution_count": 50,
   "id": "430fc5bc",
   "metadata": {},
   "outputs": [
    {
     "data": {
      "text/plain": [
       "6"
      ]
     },
     "execution_count": 50,
     "metadata": {},
     "output_type": "execute_result"
    }
   ],
   "source": [
    "myrdd01.count()"
   ]
  },
  {
   "cell_type": "code",
   "execution_count": 51,
   "id": "cb69292e",
   "metadata": {},
   "outputs": [
    {
     "name": "stdout",
     "output_type": "stream",
     "text": [
      "['TCP;221.108.30.01;ab:ab:a0:a0:ab:70;13.120.12.02;ab:ab:a0:a0:a0:64;1200;0', 'TCP;221.108.30.01;ab:ab:a0:a0:ab:70;13.120.12.02;ab:ab:a0:a0:a0:64;1200;0', 'TCP;221.108.30.01;ab:ab:a0:a0:ab:70;13.120.12.02;ab:ab:a0:a0:a0:64;1200;0', 'TCP;221.108.30.01;ab:ab:a0:a0:ab:70;13.120.12.02;ab:ab:a0:a0:a0:64;1200;0', 'TCP;221.108.30.01;ab:ab:a0:a0:ab:70;13.120.12.02;ab:ab:a0:a0:a0:64;1200;0', 'TCP;221.108.30.01;ab:ab:a0:a0:ab:70;13.120.12.02;ab:ab:a0:a0:a0:64;1200;0']\n"
     ]
    }
   ],
   "source": [
    "print(myrdd01.collect())"
   ]
  },
  {
   "cell_type": "code",
   "execution_count": 52,
   "id": "e4637a6d",
   "metadata": {},
   "outputs": [],
   "source": [
    "myrdd01_map = myrdd01.map(lambda x: 1) "
   ]
  },
  {
   "cell_type": "code",
   "execution_count": 53,
   "id": "74e0843d",
   "metadata": {},
   "outputs": [
    {
     "name": "stdout",
     "output_type": "stream",
     "text": [
      "[1, 1, 1, 1, 1, 1]\n"
     ]
    }
   ],
   "source": [
    "print(myrdd01_map.collect())"
   ]
  },
  {
   "cell_type": "code",
   "execution_count": null,
   "id": "c20ffc9e",
   "metadata": {},
   "outputs": [],
   "source": []
  }
 ],
 "metadata": {
  "kernelspec": {
   "display_name": "Python 3 (ipykernel)",
   "language": "python",
   "name": "python3"
  },
  "language_info": {
   "codemirror_mode": {
    "name": "ipython",
    "version": 3
   },
   "file_extension": ".py",
   "mimetype": "text/x-python",
   "name": "python",
   "nbconvert_exporter": "python",
   "pygments_lexer": "ipython3",
   "version": "3.10.9"
  }
 },
 "nbformat": 4,
 "nbformat_minor": 5
}
